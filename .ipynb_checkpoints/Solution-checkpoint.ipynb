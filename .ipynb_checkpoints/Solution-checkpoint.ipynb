{
 "cells": [
  {
   "cell_type": "markdown",
   "id": "6727d118",
   "metadata": {},
   "source": [
    "1. Using the echo command print in console \"Hello World\". Here is some info about echo command [https://discuss.codecademy.com/t/what-are-practical-uses-of-the-echo-command/394788]"
   ]
  },
  {
   "cell_type": "raw",
   "id": "c538b59b",
   "metadata": {},
   "source": [
    "echo Hello World"
   ]
  },
  {
   "cell_type": "markdown",
   "id": "33b65349",
   "metadata": {},
   "source": [
    "2. Create a new directory called new_dir."
   ]
  },
  {
   "cell_type": "raw",
   "id": "bb240628",
   "metadata": {},
   "source": [
    "mkdir new_dir"
   ]
  },
  {
   "cell_type": "markdown",
   "id": "36766d54",
   "metadata": {},
   "source": [
    "3. Delete/Remove the directory new_dir."
   ]
  },
  {
   "cell_type": "raw",
   "id": "50eba9b8",
   "metadata": {},
   "source": [
    "rmdir new_dir"
   ]
  },
  {
   "cell_type": "markdown",
   "id": "bfe50b58",
   "metadata": {},
   "source": [
    "4. Copy the file sed.txt from the lorem folder and paste it to the folder lorem-copy folder."
   ]
  },
  {
   "cell_type": "raw",
   "id": "64bb4a04",
   "metadata": {},
   "source": [
    "cp lorem/sed.txt lorem-copy"
   ]
  },
  {
   "cell_type": "markdown",
   "id": "c52105ff",
   "metadata": {},
   "source": [
    "5. Copy the other two files from the lorem folder to lorem-copy folder in just one line using semicolon ;."
   ]
  },
  {
   "cell_type": "raw",
   "id": "8009ffe6",
   "metadata": {},
   "source": [
    "cp lorem/sed.txt lorem-copy ; cp lorem/at.txt lorem-copy"
   ]
  },
  {
   "cell_type": "markdown",
   "id": "ba08547a",
   "metadata": {},
   "source": [
    "6. Show the sed.txt file content from the lorem folder."
   ]
  },
  {
   "cell_type": "raw",
   "id": "06728926",
   "metadata": {},
   "source": [
    "cat lorem/sed.txt"
   ]
  },
  {
   "cell_type": "markdown",
   "id": "9775857b",
   "metadata": {},
   "source": [
    "7. Show the at.txt file and lorem.txt file contents from lorem folder."
   ]
  },
  {
   "cell_type": "raw",
   "id": "36c7bcfc",
   "metadata": {},
   "source": [
    "cat lorem/at.txt\n",
    "cat lorem/lorem.txt"
   ]
  },
  {
   "cell_type": "markdown",
   "id": "d862b087",
   "metadata": {},
   "source": [
    "8. Print the first 3 rows in sed.txt file from lorem-copy folder."
   ]
  },
  {
   "cell_type": "raw",
   "id": "03305c91",
   "metadata": {},
   "source": [
    "head -3 lorem-copy/sed.txt OR sed -n 1,3p lorem-copy/sed.txt"
   ]
  },
  {
   "cell_type": "markdown",
   "id": "a34fce0f",
   "metadata": {},
   "source": [
    "9. Print the last 3 rows in sed.txt file from lorem-copy folder."
   ]
  },
  {
   "cell_type": "raw",
   "id": "ba53546b",
   "metadata": {},
   "source": [
    "tail -3 lorem-copy/sed.txt"
   ]
  },
  {
   "cell_type": "markdown",
   "id": "61551bcd",
   "metadata": {},
   "source": [
    "10. Add Homo homini lupus. at the end of sed.txt file in the lorem-copy folder."
   ]
  },
  {
   "cell_type": "raw",
   "id": "e938045c",
   "metadata": {},
   "source": [
    "echo Homo homini lupus >> lorem-copy/sed.txt"
   ]
  },
  {
   "cell_type": "markdown",
   "id": "fb0e2618",
   "metadata": {},
   "source": [
    "11. Print the last 3 rows in sed.txt file from lorem-copy folder. You should see Homo homini lupus.."
   ]
  },
  {
   "cell_type": "raw",
   "id": "6c515fba",
   "metadata": {},
   "source": [
    "tail -3 lorem-copy/sed.txt"
   ]
  },
  {
   "cell_type": "markdown",
   "id": "b41d1d01",
   "metadata": {},
   "source": [
    "12. sed command is used to replace the text in a file. Use the sed command to replace all occurances of et with ET in the file at.txt file present in the folder lorem. You can use the following link to refer to sed commands [https://www.linode.com/docs/guides/manipulate-text-from-the-command-line-with-sed/] Check the contents of the sed.txt file using cat command."
   ]
  },
  {
   "cell_type": "raw",
   "id": "b071f566",
   "metadata": {},
   "source": [
    "sed -r -i.bak 's/et/ET/g' lorem/at.txt\n",
    "cat lorem/at.txt"
   ]
  },
  {
   "cell_type": "markdown",
   "id": "03d032da",
   "metadata": {},
   "source": [
    "13. Find who is the system user."
   ]
  },
  {
   "cell_type": "raw",
   "id": "97d2069c",
   "metadata": {},
   "source": [
    "whoami"
   ]
  },
  {
   "cell_type": "markdown",
   "id": "7db08eac",
   "metadata": {},
   "source": [
    "14. Find the current path of the directory you are in."
   ]
  },
  {
   "cell_type": "raw",
   "id": "1a698e69",
   "metadata": {},
   "source": [
    "pwd"
   ]
  },
  {
   "cell_type": "markdown",
   "id": "def3d504",
   "metadata": {},
   "source": [
    "15. List all files with the extension .txt in lorem folder."
   ]
  },
  {
   "cell_type": "raw",
   "id": "8e8bc36d",
   "metadata": {},
   "source": [
    "ls lorem/*txt"
   ]
  },
  {
   "cell_type": "markdown",
   "id": "6a632d74",
   "metadata": {},
   "source": [
    "16. Count the rows in sed.txt file from lorem folder. Look concatenate cat and wc with the pipe |."
   ]
  },
  {
   "cell_type": "raw",
   "id": "51a44a60",
   "metadata": {},
   "source": [
    "wc -l < lorem/sed.txt"
   ]
  },
  {
   "cell_type": "markdown",
   "id": "3dc725bb",
   "metadata": {},
   "source": [
    "17. Count the files which start with lorem in all directories."
   ]
  },
  {
   "cell_type": "raw",
   "id": "e35291fb",
   "metadata": {},
   "source": [
    "ls -dq lorem* | wc -l"
   ]
  },
  {
   "cell_type": "markdown",
   "id": "4142e762",
   "metadata": {},
   "source": [
    "18. Store your name in a variable with read command."
   ]
  },
  {
   "cell_type": "raw",
   "id": "2f2fa08d",
   "metadata": {},
   "source": [
    "read name"
   ]
  },
  {
   "cell_type": "markdown",
   "id": "326c183d",
   "metadata": {},
   "source": [
    "19. Print that variable."
   ]
  },
  {
   "cell_type": "raw",
   "id": "0ca8c112",
   "metadata": {},
   "source": [
    "echo $name"
   ]
  },
  {
   "cell_type": "markdown",
   "id": "bf414c07",
   "metadata": {},
   "source": [
    "20. Create a new directory named with variable name."
   ]
  },
  {
   "cell_type": "raw",
   "id": "e8ed20e5",
   "metadata": {},
   "source": [
    "mkdir $name"
   ]
  },
  {
   "cell_type": "markdown",
   "id": "bc727aa9",
   "metadata": {},
   "source": [
    "21. Remove that directory."
   ]
  },
  {
   "cell_type": "raw",
   "id": "8ba7ca89",
   "metadata": {},
   "source": [
    "rmdir $name"
   ]
  }
 ],
 "metadata": {
  "kernelspec": {
   "display_name": "Python 3 (ipykernel)",
   "language": "python",
   "name": "python3"
  },
  "language_info": {
   "codemirror_mode": {
    "name": "ipython",
    "version": 3
   },
   "file_extension": ".py",
   "mimetype": "text/x-python",
   "name": "python",
   "nbconvert_exporter": "python",
   "pygments_lexer": "ipython3",
   "version": "3.9.13"
  }
 },
 "nbformat": 4,
 "nbformat_minor": 5
}
