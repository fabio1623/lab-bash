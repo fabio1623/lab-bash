{
 "cells": [
  {
   "cell_type": "raw",
   "id": "5bc81011",
   "metadata": {},
   "source": [
    "mkdir new_dir\n",
    "rmdir new_dir\n",
    "cp lorem/sed.txt lorem-copy\n",
    "cp lorem/sed.txt lorem-copy ; cp lorem/at.txt lorem-copy\n",
    "cat lorem/sed.txt\n",
    "cat lorem/at.txt\n",
    "cat lorem/lorem.txt\n",
    "head -3 lorem-copy/sed.txt OR sed -n 1,3p lorem-copy/sed.txt\n",
    "tail -3 lorem-copy/sed.txt\n",
    "echo Homo homini lupus >> lorem-copy/sed.txt\n",
    "tail -3 lorem-copy/sed.txt\n",
    "sed -r -i.bak 's/et/ET/g' lorem/at.txt\n",
    "cat lorem/at.txt\n",
    "whoami\n",
    "pwd\n",
    "ls lorem/*txt\n",
    "wc -l < lorem/sed.txt\n",
    "ls -dq lorem* | wc -l\n",
    "read name\n",
    "echo $name\n",
    "mkdir $name\n",
    "rmdir $name"
   ]
  }
 ],
 "metadata": {
  "kernelspec": {
   "display_name": "Python 3 (ipykernel)",
   "language": "python",
   "name": "python3"
  },
  "language_info": {
   "codemirror_mode": {
    "name": "ipython",
    "version": 3
   },
   "file_extension": ".py",
   "mimetype": "text/x-python",
   "name": "python",
   "nbconvert_exporter": "python",
   "pygments_lexer": "ipython3",
   "version": "3.9.13"
  }
 },
 "nbformat": 4,
 "nbformat_minor": 5
}
